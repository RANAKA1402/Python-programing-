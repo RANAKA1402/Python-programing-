{
 "cells": [
  {
   "cell_type": "code",
   "execution_count": 1,
   "id": "ad0dcd9b",
   "metadata": {},
   "outputs": [
    {
     "data": {
      "text/plain": [
       "'hello world'"
      ]
     },
     "execution_count": 1,
     "metadata": {},
     "output_type": "execute_result"
    }
   ],
   "source": [
    "                                                            #print code\n",
    "\"hello world\""
   ]
  },
  {
   "cell_type": "code",
   "execution_count": 2,
   "id": "a0ea8478",
   "metadata": {},
   "outputs": [
    {
     "name": "stdout",
     "output_type": "stream",
     "text": [
      "15\n",
      "3\n",
      "54\n",
      "1.5\n"
     ]
    }
   ],
   "source": [
    "                                                             # Arithmatic operators\n",
    "a=9\n",
    "b=6\n",
    "print(a+b)\n",
    "print(a-b)\n",
    "print(a*b)\n",
    "print(a/b)"
   ]
  },
  {
   "cell_type": "code",
   "execution_count": 7,
   "id": "053dbb49",
   "metadata": {},
   "outputs": [
    {
     "name": "stdout",
     "output_type": "stream",
     "text": [
      "35.0\n"
     ]
    }
   ],
   "source": [
    "                                                            # assignment operators\n",
    "a=9\n",
    "a+=2\n",
    "a-=1\n",
    "a*=7\n",
    "a/=2\n",
    "print(a)"
   ]
  },
  {
   "cell_type": "code",
   "execution_count": 8,
   "id": "6bf3db7b",
   "metadata": {},
   "outputs": [
    {
     "data": {
      "text/plain": [
       "True"
      ]
     },
     "execution_count": 8,
     "metadata": {},
     "output_type": "execute_result"
    }
   ],
   "source": [
    "                                                        # comparition operators\n",
    "a=9\n",
    "b=6\n",
    "a>b\n"
   ]
  },
  {
   "cell_type": "code",
   "execution_count": 9,
   "id": "0ab7d49f",
   "metadata": {},
   "outputs": [
    {
     "data": {
      "text/plain": [
       "False"
      ]
     },
     "execution_count": 9,
     "metadata": {},
     "output_type": "execute_result"
    }
   ],
   "source": [
    "a<b"
   ]
  },
  {
   "cell_type": "code",
   "execution_count": 10,
   "id": "c87a9cde",
   "metadata": {},
   "outputs": [
    {
     "data": {
      "text/plain": [
       "True"
      ]
     },
     "execution_count": 10,
     "metadata": {},
     "output_type": "execute_result"
    }
   ],
   "source": [
    "a>=b"
   ]
  },
  {
   "cell_type": "code",
   "execution_count": 11,
   "id": "80c40043",
   "metadata": {},
   "outputs": [
    {
     "data": {
      "text/plain": [
       "False"
      ]
     },
     "execution_count": 11,
     "metadata": {},
     "output_type": "execute_result"
    }
   ],
   "source": [
    "a<=b"
   ]
  },
  {
   "cell_type": "code",
   "execution_count": 14,
   "id": "217116a3",
   "metadata": {},
   "outputs": [
    {
     "name": "stdout",
     "output_type": "stream",
     "text": [
      "enter the value of bool1 False\n"
     ]
    }
   ],
   "source": [
    "                                                               #logical operators\n",
    "bool1 = True\n",
    "bool2 = False\n",
    "print(\"enter the value of bool1 IS\",(not bool1))"
   ]
  },
  {
   "cell_type": "code",
   "execution_count": 15,
   "id": "721aa6f1",
   "metadata": {},
   "outputs": [
    {
     "name": "stdout",
     "output_type": "stream",
     "text": [
      "enter the value of bool1 and bool2 IS False\n"
     ]
    }
   ],
   "source": [
    "print(\"enter the value of bool1 and bool2 IS\",(bool1 and bool2))"
   ]
  },
  {
   "cell_type": "code",
   "execution_count": 16,
   "id": "4302e712",
   "metadata": {},
   "outputs": [
    {
     "name": "stdout",
     "output_type": "stream",
     "text": [
      "enter the value of bool1 or bool2 IS True\n"
     ]
    }
   ],
   "source": [
    "print(\"enter the value of bool1 or bool2 IS\",(bool1 or bool2))"
   ]
  },
  {
   "cell_type": "code",
   "execution_count": 26,
   "id": "48dd2a85",
   "metadata": {},
   "outputs": [
    {
     "data": {
      "text/plain": [
       "int"
      ]
     },
     "execution_count": 26,
     "metadata": {},
     "output_type": "execute_result"
    }
   ],
   "source": [
    "                                                          # Type casting (string to intiger a=int(a))\n",
    "a=\"456\"\n",
    "a=int(a)\n",
    "type(a)\n",
    "\n"
   ]
  },
  {
   "cell_type": "code",
   "execution_count": 30,
   "id": "83240a9a",
   "metadata": {},
   "outputs": [
    {
     "name": "stdout",
     "output_type": "stream",
     "text": [
      "31\n",
      "31.0\n"
     ]
    }
   ],
   "source": [
    "print(int(\"31\"))\n",
    "print(float(31))"
   ]
  },
  {
   "cell_type": "code",
   "execution_count": 28,
   "id": "31e12983",
   "metadata": {},
   "outputs": [
    {
     "data": {
      "text/plain": [
       "'31'"
      ]
     },
     "execution_count": 28,
     "metadata": {},
     "output_type": "execute_result"
    }
   ],
   "source": [
    "str(31)"
   ]
  },
  {
   "cell_type": "code",
   "execution_count": 31,
   "id": "b7de2a48",
   "metadata": {},
   "outputs": [
    {
     "name": "stdout",
     "output_type": "stream",
     "text": [
      "enter your namekavita\n",
      "kavita\n"
     ]
    }
   ],
   "source": [
    "                                                      # Input function\n",
    "a=input(\"enter your name\")\n",
    "print(a)"
   ]
  },
  {
   "cell_type": "code",
   "execution_count": 2,
   "id": "d8605a95",
   "metadata": {},
   "outputs": [
    {
     "name": "stdout",
     "output_type": "stream",
     "text": [
      "enter your name:tia\n",
      "tia is an indian.\n"
     ]
    }
   ],
   "source": [
    "a=input(\"enter your name:\")\n",
    "print(a, \"is an indian.\")"
   ]
  },
  {
   "cell_type": "code",
   "execution_count": 6,
   "id": "52a1804f",
   "metadata": {},
   "outputs": [
    {
     "name": "stdout",
     "output_type": "stream",
     "text": [
      "Good Morning, Kavita\n"
     ]
    }
   ],
   "source": [
    "                                                        #string operations\n",
    "greeting= \"Good Morning, \"\n",
    "name=\"Kavita\"\n",
    "print(greeting+name)"
   ]
  },
  {
   "cell_type": "code",
   "execution_count": 7,
   "id": "0c87f3c8",
   "metadata": {},
   "outputs": [
    {
     "data": {
      "text/plain": [
       "14"
      ]
     },
     "execution_count": 7,
     "metadata": {},
     "output_type": "execute_result"
    }
   ],
   "source": [
    "len(greeting)"
   ]
  },
  {
   "cell_type": "code",
   "execution_count": 8,
   "id": "fb55c02e",
   "metadata": {},
   "outputs": [
    {
     "data": {
      "text/plain": [
       "6"
      ]
     },
     "execution_count": 8,
     "metadata": {},
     "output_type": "execute_result"
    }
   ],
   "source": [
    "len(name)"
   ]
  },
  {
   "cell_type": "code",
   "execution_count": 29,
   "id": "2bdc6c37",
   "metadata": {},
   "outputs": [
    {
     "name": "stdout",
     "output_type": "stream",
     "text": [
      "Go onn\n"
     ]
    }
   ],
   "source": [
    "a= \"Good Morning, \"                                            ###slicing operation\n",
    "print(a[0:12:2])"
   ]
  },
  {
   "cell_type": "code",
   "execution_count": 27,
   "id": "6f74fd0f",
   "metadata": {},
   "outputs": [
    {
     "name": "stdout",
     "output_type": "stream",
     "text": [
      " ,gninroM dooG\n"
     ]
    }
   ],
   "source": [
    "print(a[::-1])                                                 ###return string"
   ]
  },
  {
   "cell_type": "code",
   "execution_count": 39,
   "id": "1fc4b9fa",
   "metadata": {},
   "outputs": [
    {
     "name": "stdout",
     "output_type": "stream",
     "text": [
      "47\n",
      "True\n",
      "1\n",
      "Once upon a time there was a beautiful kingdom.\n",
      "23\n",
      "Once upon a time there was a beautiful princess.\n"
     ]
    }
   ],
   "source": [
    "                                                    ##various string function\n",
    "a=\"Once upon a time there was a beautiful kingdom.\"\n",
    "print(len(a))\n",
    "print(a.endswith(\"kingdom.\"))                          ## to find end note\n",
    "print(a.count(\"kingdom.\"))                             ## count a words\n",
    "print(a.capitalize())                                 ### to capitalize first alphabate\n",
    "print(a.find(\"was\"))                                  ### to find in position number\n",
    "print(a.replace(\"kingdom\",\"princess\"))                 ## to replace\n"
   ]
  },
  {
   "cell_type": "code",
   "execution_count": 41,
   "id": "6be335f3",
   "metadata": {},
   "outputs": [
    {
     "name": "stdout",
     "output_type": "stream",
     "text": [
      "enter the nameTiara\n",
      "Good afternoon, Tiara\n"
     ]
    }
   ],
   "source": [
    "##practice sets\n",
    "a=\"Good afternoon, \"\n",
    "b=input(\"enter the name\")\n",
    "print(a+b)"
   ]
  },
  {
   "cell_type": "code",
   "execution_count": 4,
   "id": "3d36c8fa",
   "metadata": {},
   "outputs": [
    {
     "name": "stdout",
     "output_type": "stream",
     "text": [
      "enter your name, \n",
      "kavita\n",
      "Good afternoon \n"
     ]
    }
   ],
   "source": [
    "##practice sets\n",
    "a=input(\"enter your name, \\n\")\n",
    "print(\"Good afternoon \")"
   ]
  },
  {
   "cell_type": "code",
   "execution_count": 14,
   "id": "125f577a",
   "metadata": {},
   "outputs": [
    {
     "name": "stdout",
     "output_type": "stream",
     "text": [
      "enter the name\n",
      "Tiara\n",
      "enter the date\n",
      "10 nov,2020\n",
      "Dear Tiara\n",
      "Greetings from tata consultancy services,\n",
      "you are selected!\n",
      "\n",
      "date: 10 nov,2020\n"
     ]
    }
   ],
   "source": [
    "##practice sets                              #### write a latter\n",
    "latter='''Dear <|NAME|>\n",
    "Greetings from tata consultancy services,\n",
    "you are selected!\n",
    "\n",
    "date: <|DATE|>'''\n",
    "name=input(\"enter the name\\n\")\n",
    "date=input(\"enter the date\\n\")\n",
    "latter=latter.replace(\"<|NAME|>\",name)\n",
    "latter=latter.replace(\"<|DATE|>\",date)\n",
    "print(latter)\n"
   ]
  },
  {
   "cell_type": "code",
   "execution_count": 22,
   "id": "aca13a59",
   "metadata": {},
   "outputs": [
    {
     "name": "stdout",
     "output_type": "stream",
     "text": [
      "Dear Tiara,\n",
      "\t you are so helpful\n",
      "Thanks and regards,\n",
      " Kavita\n"
     ]
    }
   ],
   "source": [
    "                                                                         ##use of \\n and \\t and \\\\ and \\'\n",
    "latter= \"Dear Tiara,\\n\\t you are so helpful\\nThanks and regards,\\n Kavita\"\n",
    "print(latter)"
   ]
  },
  {
   "cell_type": "code",
   "execution_count": null,
   "id": "a060675c",
   "metadata": {},
   "outputs": [],
   "source": []
  }
 ],
 "metadata": {
  "kernelspec": {
   "display_name": "Python 3 (ipykernel)",
   "language": "python",
   "name": "python3"
  },
  "language_info": {
   "codemirror_mode": {
    "name": "ipython",
    "version": 3
   },
   "file_extension": ".py",
   "mimetype": "text/x-python",
   "name": "python",
   "nbconvert_exporter": "python",
   "pygments_lexer": "ipython3",
   "version": "3.9.13"
  }
 },
 "nbformat": 4,
 "nbformat_minor": 5
}
